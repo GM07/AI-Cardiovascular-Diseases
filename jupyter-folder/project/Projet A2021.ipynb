{
 "cells": [
  {
   "cell_type": "markdown",
   "metadata": {},
   "source": [
    "\n",
    "# MTH3302 : Méthodes probabilistes et statistiques pour l'I.A.\n",
    "\n",
    "Jonathan Jalbert<br/>\n",
    "Professeur agrégé au Département de mathématiques et de génie industriel<br/>\n",
    "Polytechnique Montréal<br/>\n",
    "\n",
    "# Projet A2021 : Prédire les maladies cardiaques\n",
    "\n",
    "La description du projet est disponible à l'adresse suivante :\n",
    "https://www.kaggle.com/t/3a185493d8bb48d8961ad50e465bed4f\n",
    "\n",
    "Ce calepin Jupyter de base permet de \n",
    "\n",
    "1. Charger les données fournies.\n",
    "2. Effectuer une analyse exploratoire sommaire des données.\n",
    "3. Développer un modèle simple de prédiction.\n",
    "4. Générer le fichier de prédictions à téléverser sur Kaggle.\n",
    "\n",
    "Dans un premier temps, vous devrez récupérer les données sous l'onglet *data* du site Kaggle. Il y a deux fichiers :\n",
    "- train.csv\n",
    "- test.csv\n",
    "\n",
    "Le fichier *train.csv* contient les données sur lesquelles vous pouvez entraîner votre modèle. Il sera ensuite évaluée sur les données de l'ensemble *test.csv* lorsque vous aurez téléversé vos prédictions sur Kaggle. \n",
    "\n",
    "### Consignes\n",
    "\n",
    "- Vous devez constituer une équipe de 3 à 5 personnes.\n",
    "- Au moins une solution doit être proposée sur Kaggle.\n",
    "- Utilisez votre numéro d'équipe pour téléverser vos prédictions sur Kaggle.\n",
    "- Un seul fichier .ipynb par équipe faisant office de rapport et permettant de reproduire vos meilleures prédictions doit être remis.\n",
    "- Le langage Julia doit être utilisé.\n",
    "- Votre démarche doit être rigoureusement justifiée (consultez la grille de correction pour vous orienter).\n",
    "\n",
    "### Quelques conseils\n",
    "\n",
    "Votre calepin doit permettre de suivre clairement votre raisonnement et de reproduire vos résultats. Garder à l'esprit que vos résultats et votre démarche doivent être reproductibles par une personne à l'extérieur de votre équipe. Le calepin constitue le rapport. Servez vous des cellules de texte pour décrire ce que vous faites.\n",
    "\n",
    "Je vous encourage fortement à faire une analyse exploratoire de vous données pour développer une meilleure expertise du problème. C'est une étape qui est toujours négligée par les débutants mais qui est essentielle. C'est avec l'analyse exploratoire que vous viendra des idées d'amélioration, par exemple créer de nouvelles variables explicatives.\n",
    "\n",
    "Vous pouvez utiliser directement tout ce qui se retrouve dans les notes de cours sans explication et toutes les librairies utilisées dans le cours (incluant mes fonctions).\n",
    "\n",
    "Ce calepin de base contient un modèle très simple de prédiction : on prédit 0 débordement à tous les jours. Ce sera votre travail d'améliorer ces prédictions naïves avec la méthode de votre choix.\n",
    "\n",
    "Il faudra que vous trouviez un moyen de traiter les données manquantes. La plupart du temps, une méthode simple d'imputation (de remplacement) des données manquantes est appropriée.\n",
    "\n",
    "Prenez la peine de tout documenter, même les essais infructueux. Ce n'est pas nécessaire de les expliquer en détails, mais c'est important de les mentionner au moins succintement dans la discussion avec une raison possible pour leur échec. De cette façon, une personne qui reprendra votre travail dans le futur ne perdra pas de temps à réessayer une méthode déjà implémentée et infructueuse.\n",
    "\n",
    "Vous pouvez aussi indiquer dans votre rapport les raisons qui vous font croire pourquoi une méthode à moins bien performée que ce à quoi vous vous attendiez. Vous pouvez également mentionner ce que vous auriez pu tenter si vous aviez eu plus de temps ou plus de données, etc. L'idée est de guider le prochain scientifique qui prendra la relève de votre travail.\n",
    "\n",
    "Vous êtes limités à deux soumissions par jour par équipe sur Kaggle. Je vous suggère donc de bien tester vos modèles localement et de ne téléverser que vos meilleurs candidats."
   ]
  },
  {
   "cell_type": "code",
   "execution_count": 7,
   "metadata": {},
   "outputs": [
    {
     "data": {
      "text/plain": [
       "\"\\nLibrairie contenant des fonctions utiles qui sont utilisées dans le calepin principal\\n\\n\""
      ]
     },
     "metadata": {},
     "output_type": "display_data"
    }
   ],
   "source": [
    "using CSV, DataFrames, Gadfly, GLM, Statistics\n",
    "include(\"Math.jl\")"
   ]
  },
  {
   "cell_type": "markdown",
   "metadata": {},
   "source": [
    "## 1. Chargement des données\n",
    "\n",
    "Assurez vous d'avoir télécharger les données dans le répertoire de ce calepin."
   ]
  },
  {
   "cell_type": "code",
   "execution_count": 8,
   "metadata": {},
   "outputs": [
    {
     "data": {
      "text/html": [
       "<div class=\"data-frame\"><p>688 rows × 13 columns (omitted printing of 5 columns)</p><table class=\"data-frame\"><thead><tr><th></th><th>ID</th><th>Age</th><th>Sex</th><th>ChestPainType</th><th>RestingBP</th><th>Cholesterol</th><th>FastingBS</th><th>RestingECG</th></tr><tr><th></th><th title=\"Int64\">Int64</th><th title=\"Int64\">Int64</th><th title=\"String1\">String1</th><th title=\"String3\">String3</th><th title=\"Int64\">Int64</th><th title=\"Union{Missing, Int64}\">Int64?</th><th title=\"Int64\">Int64</th><th title=\"String7\">String7</th></tr></thead><tbody><tr><th>1</th><td>1</td><td>69</td><td>M</td><td>ASY</td><td>140</td><td>110</td><td>1</td><td>Normal</td></tr><tr><th>2</th><td>2</td><td>60</td><td>M</td><td>ASY</td><td>140</td><td>293</td><td>0</td><td>LVH</td></tr><tr><th>3</th><td>3</td><td>52</td><td>M</td><td>ASY</td><td>165</td><td><em>missing</em></td><td>1</td><td>Normal</td></tr><tr><th>4</th><td>4</td><td>46</td><td>M</td><td>NAP</td><td>120</td><td>230</td><td>0</td><td>Normal</td></tr><tr><th>5</th><td>5</td><td>61</td><td>M</td><td>NAP</td><td>120</td><td><em>missing</em></td><td>0</td><td>Normal</td></tr><tr><th>6</th><td>6</td><td>46</td><td>M</td><td>NAP</td><td>150</td><td>231</td><td>0</td><td>Normal</td></tr><tr><th>7</th><td>7</td><td>45</td><td>F</td><td>ATA</td><td>112</td><td>160</td><td>0</td><td>Normal</td></tr><tr><th>8</th><td>8</td><td>47</td><td>M</td><td>ASY</td><td>140</td><td>276</td><td>1</td><td>Normal</td></tr><tr><th>9</th><td>9</td><td>43</td><td>M</td><td>ASY</td><td>150</td><td>247</td><td>0</td><td>Normal</td></tr><tr><th>10</th><td>10</td><td>49</td><td>F</td><td>ASY</td><td>130</td><td>269</td><td>0</td><td>Normal</td></tr><tr><th>11</th><td>11</td><td>43</td><td>M</td><td>NAP</td><td>130</td><td>315</td><td>0</td><td>Normal</td></tr><tr><th>12</th><td>12</td><td>36</td><td>M</td><td>NAP</td><td>150</td><td>160</td><td>0</td><td>Normal</td></tr><tr><th>13</th><td>13</td><td>50</td><td>M</td><td>ASY</td><td>145</td><td>264</td><td>0</td><td>Normal</td></tr><tr><th>14</th><td>14</td><td>37</td><td>M</td><td>NAP</td><td>118</td><td>240</td><td>0</td><td>LVH</td></tr><tr><th>15</th><td>15</td><td>41</td><td>F</td><td>ATA</td><td>125</td><td>184</td><td>0</td><td>Normal</td></tr><tr><th>16</th><td>16</td><td>46</td><td>M</td><td>ASY</td><td>134</td><td>310</td><td>0</td><td>Normal</td></tr><tr><th>17</th><td>17</td><td>65</td><td>F</td><td>NAP</td><td>140</td><td>417</td><td>1</td><td>LVH</td></tr><tr><th>18</th><td>18</td><td>57</td><td>M</td><td>ASY</td><td>95</td><td><em>missing</em></td><td>1</td><td>Normal</td></tr><tr><th>19</th><td>19</td><td>56</td><td>M</td><td>ASY</td><td>150</td><td>213</td><td>1</td><td>Normal</td></tr><tr><th>20</th><td>20</td><td>68</td><td>M</td><td>NAP</td><td>118</td><td>277</td><td>0</td><td>Normal</td></tr><tr><th>21</th><td>21</td><td>54</td><td>M</td><td>NAP</td><td>150</td><td>195</td><td>0</td><td>Normal</td></tr><tr><th>22</th><td>22</td><td>40</td><td>M</td><td>ASY</td><td>110</td><td>167</td><td>0</td><td>LVH</td></tr><tr><th>23</th><td>23</td><td>57</td><td>F</td><td>ASY</td><td>128</td><td>303</td><td>0</td><td>LVH</td></tr><tr><th>24</th><td>24</td><td>49</td><td>M</td><td>NAP</td><td>115</td><td>265</td><td>0</td><td>Normal</td></tr><tr><th>&vellip;</th><td>&vellip;</td><td>&vellip;</td><td>&vellip;</td><td>&vellip;</td><td>&vellip;</td><td>&vellip;</td><td>&vellip;</td><td>&vellip;</td></tr></tbody></table></div>"
      ],
      "text/latex": [
       "\\begin{tabular}{r|ccccccccc}\n",
       "\t& ID & Age & Sex & ChestPainType & RestingBP & Cholesterol & FastingBS & RestingECG & \\\\\n",
       "\t\\hline\n",
       "\t& Int64 & Int64 & String1 & String3 & Int64 & Int64? & Int64 & String7 & \\\\\n",
       "\t\\hline\n",
       "\t1 & 1 & 69 & M & ASY & 140 & 110 & 1 & Normal & $\\dots$ \\\\\n",
       "\t2 & 2 & 60 & M & ASY & 140 & 293 & 0 & LVH & $\\dots$ \\\\\n",
       "\t3 & 3 & 52 & M & ASY & 165 & \\emph{missing} & 1 & Normal & $\\dots$ \\\\\n",
       "\t4 & 4 & 46 & M & NAP & 120 & 230 & 0 & Normal & $\\dots$ \\\\\n",
       "\t5 & 5 & 61 & M & NAP & 120 & \\emph{missing} & 0 & Normal & $\\dots$ \\\\\n",
       "\t6 & 6 & 46 & M & NAP & 150 & 231 & 0 & Normal & $\\dots$ \\\\\n",
       "\t7 & 7 & 45 & F & ATA & 112 & 160 & 0 & Normal & $\\dots$ \\\\\n",
       "\t8 & 8 & 47 & M & ASY & 140 & 276 & 1 & Normal & $\\dots$ \\\\\n",
       "\t9 & 9 & 43 & M & ASY & 150 & 247 & 0 & Normal & $\\dots$ \\\\\n",
       "\t10 & 10 & 49 & F & ASY & 130 & 269 & 0 & Normal & $\\dots$ \\\\\n",
       "\t11 & 11 & 43 & M & NAP & 130 & 315 & 0 & Normal & $\\dots$ \\\\\n",
       "\t12 & 12 & 36 & M & NAP & 150 & 160 & 0 & Normal & $\\dots$ \\\\\n",
       "\t13 & 13 & 50 & M & ASY & 145 & 264 & 0 & Normal & $\\dots$ \\\\\n",
       "\t14 & 14 & 37 & M & NAP & 118 & 240 & 0 & LVH & $\\dots$ \\\\\n",
       "\t15 & 15 & 41 & F & ATA & 125 & 184 & 0 & Normal & $\\dots$ \\\\\n",
       "\t16 & 16 & 46 & M & ASY & 134 & 310 & 0 & Normal & $\\dots$ \\\\\n",
       "\t17 & 17 & 65 & F & NAP & 140 & 417 & 1 & LVH & $\\dots$ \\\\\n",
       "\t18 & 18 & 57 & M & ASY & 95 & \\emph{missing} & 1 & Normal & $\\dots$ \\\\\n",
       "\t19 & 19 & 56 & M & ASY & 150 & 213 & 1 & Normal & $\\dots$ \\\\\n",
       "\t20 & 20 & 68 & M & NAP & 118 & 277 & 0 & Normal & $\\dots$ \\\\\n",
       "\t21 & 21 & 54 & M & NAP & 150 & 195 & 0 & Normal & $\\dots$ \\\\\n",
       "\t22 & 22 & 40 & M & ASY & 110 & 167 & 0 & LVH & $\\dots$ \\\\\n",
       "\t23 & 23 & 57 & F & ASY & 128 & 303 & 0 & LVH & $\\dots$ \\\\\n",
       "\t24 & 24 & 49 & M & NAP & 115 & 265 & 0 & Normal & $\\dots$ \\\\\n",
       "\t$\\dots$ & $\\dots$ & $\\dots$ & $\\dots$ & $\\dots$ & $\\dots$ & $\\dots$ & $\\dots$ & $\\dots$ &  \\\\\n",
       "\\end{tabular}\n"
      ],
      "text/plain": [
       "\u001b[1m688×13 DataFrame\u001b[0m\n",
       "\u001b[1m Row \u001b[0m│\u001b[1m ID    \u001b[0m\u001b[1m Age   \u001b[0m\u001b[1m Sex     \u001b[0m\u001b[1m ChestPainType \u001b[0m\u001b[1m RestingBP \u001b[0m\u001b[1m Cholesterol \u001b[0m\u001b[1m FastingBS\u001b[0m ⋯\n",
       "\u001b[1m     \u001b[0m│\u001b[90m Int64 \u001b[0m\u001b[90m Int64 \u001b[0m\u001b[90m String1 \u001b[0m\u001b[90m String3       \u001b[0m\u001b[90m Int64     \u001b[0m\u001b[90m Int64?      \u001b[0m\u001b[90m Int64    \u001b[0m ⋯\n",
       "─────┼──────────────────────────────────────────────────────────────────────────\n",
       "   1 │     1     69  M        ASY                  140          110          1 ⋯\n",
       "   2 │     2     60  M        ASY                  140          293          0\n",
       "   3 │     3     52  M        ASY                  165 \u001b[90m     missing \u001b[0m         1\n",
       "   4 │     4     46  M        NAP                  120          230          0\n",
       "   5 │     5     61  M        NAP                  120 \u001b[90m     missing \u001b[0m         0 ⋯\n",
       "   6 │     6     46  M        NAP                  150          231          0\n",
       "   7 │     7     45  F        ATA                  112          160          0\n",
       "   8 │     8     47  M        ASY                  140          276          1\n",
       "  ⋮  │   ⋮      ⋮       ⋮           ⋮            ⋮           ⋮           ⋮     ⋱\n",
       " 682 │   682     54  F        ATA                  150          230          0 ⋯\n",
       " 683 │   683     44  M        ATA                  120          220          0\n",
       " 684 │   684     52  F        NAP                  136          196          0\n",
       " 685 │   685     66  F        ASY                  155 \u001b[90m     missing \u001b[0m         1\n",
       " 686 │   686     55  M        ASY                  122          223          1 ⋯\n",
       " 687 │   687     34  F        ATA                  130          161          0\n",
       " 688 │   688     48  M        NAP                  110          211          0\n",
       "\u001b[36m                                                  6 columns and 673 rows omitted\u001b[0m"
      ]
     },
     "metadata": {},
     "output_type": "display_data"
    }
   ],
   "source": [
    "data = CSV.read(\"train.csv\", DataFrame)"
   ]
  },
  {
   "cell_type": "markdown",
   "metadata": {},
   "source": [
    "## 2. Analyse exploratoire sommaire\n",
    "\n",
    "C'est une analyse exploratoire sommaire. Je vous encourage fortement à poursuivre cette analyse.\n",
    "\n",
    "#### 2.1 Maladie cardiovasculaire en fonction du rythme cardiaque maximal"
   ]
  },
  {
   "cell_type": "markdown",
   "metadata": {},
   "source": [
    "# Préparation des données \n",
    "- Compter le nombre de patients, le nombre de patients malades, le nombre de patients sains.\n",
    "- Séparer en ensemble d'entrainement et ensemble de validation\n",
    "- Compter le nombre de données manquantes et trouver par quoi remplacer ces données\n",
    "- Vérifier la présence de points aberrants (SI)\n",
    "- Catégoriser les variables (qualitatifs et quantitatifs)\n",
    "- Voir si on ne peut pas créer de nouvelles variables (par exemple de catégoriser l'âge au lieu de prendre la valeur)\n",
    "\n",
    "# Préparation du modèle\n",
    "- "
   ]
  },
  {
   "cell_type": "code",
   "execution_count": 6,
   "metadata": {},
   "outputs": [
    {
     "ename": "UndefVarError",
     "evalue": "UndefVarError: groupby not defined",
     "output_type": "error",
     "traceback": [
      "UndefVarError: groupby not defined\n",
      "\n",
      "Stacktrace:\n",
      "  [1] top-level scope\n",
      "    @ /workspaces/AI-Cardiovascular-Diseases/jupyter-folder/project/Projet A2021.ipynb:3\n",
      "  [2] eval\n",
      "    @ ./boot.jl:360 [inlined]\n",
      "  [3] include_string(mapexpr::typeof(REPL.softscope), mod::Module, code::String, filename::String)\n",
      "    @ Base ./loading.jl:1094\n",
      "  [4] #invokelatest#2\n",
      "    @ ./essentials.jl:708 [inlined]\n",
      "  [5] invokelatest\n",
      "    @ ./essentials.jl:706 [inlined]\n",
      "  [6] (::VSCodeServer.var\"#146#147\"{VSCodeServer.NotebookRunCellArguments, String})()\n",
      "    @ VSCodeServer ~/.vscode-server/extensions/julialang.language-julia-1.5.6/scripts/packages/VSCodeServer/src/serve_notebook.jl:18\n",
      "  [7] withpath(f::VSCodeServer.var\"#146#147\"{VSCodeServer.NotebookRunCellArguments, String}, path::String)\n",
      "    @ VSCodeServer ~/.vscode-server/extensions/julialang.language-julia-1.5.6/scripts/packages/VSCodeServer/src/repl.jl:185\n",
      "  [8] notebook_runcell_request(conn::VSCodeServer.JSONRPC.JSONRPCEndpoint{Base.PipeEndpoint, Base.PipeEndpoint}, params::VSCodeServer.NotebookRunCellArguments)\n",
      "    @ VSCodeServer ~/.vscode-server/extensions/julialang.language-julia-1.5.6/scripts/packages/VSCodeServer/src/serve_notebook.jl:14\n",
      "  [9] dispatch_msg(x::VSCodeServer.JSONRPC.JSONRPCEndpoint{Base.PipeEndpoint, Base.PipeEndpoint}, dispatcher::VSCodeServer.JSONRPC.MsgDispatcher, msg::Dict{String, Any})\n",
      "    @ VSCodeServer.JSONRPC ~/.vscode-server/extensions/julialang.language-julia-1.5.6/scripts/packages/JSONRPC/src/typed.jl:67\n",
      " [10] serve_notebook(pipename::String; crashreporting_pipename::String)\n",
      "    @ VSCodeServer ~/.vscode-server/extensions/julialang.language-julia-1.5.6/scripts/packages/VSCodeServer/src/serve_notebook.jl:94\n",
      " [11] top-level scope\n",
      "    @ ~/.vscode-server/extensions/julialang.language-julia-1.5.6/scripts/notebook/notebook.jl:12\n",
      " [12] include(mod::Module, _path::String)\n",
      "    @ Base ./Base.jl:386\n",
      " [13] exec_options(opts::Base.JLOptions)\n",
      "    @ Base ./client.jl:285\n",
      " [14] _start()\n",
      "    @ Base ./client.jl:485"
     ]
    }
   ],
   "source": [
    "# Calcul de la moyenne par classe\n",
    "\n",
    "combine(groupby(data, :HeartDisease), :MaxHR => mean)"
   ]
  },
  {
   "cell_type": "code",
   "execution_count": 7,
   "metadata": {},
   "outputs": [
    {
     "ename": "UndefVarError",
     "evalue": "UndefVarError: select not defined",
     "output_type": "error",
     "traceback": [
      "UndefVarError: select not defined\n",
      "\n",
      "Stacktrace:\n",
      "  [1] top-level scope\n",
      "    @ /workspaces/AI-Cardiovascular-Diseases/jupyter-folder/project/Projet A2021.ipynb:3\n",
      "  [2] eval\n",
      "    @ ./boot.jl:360 [inlined]\n",
      "  [3] include_string(mapexpr::typeof(REPL.softscope), mod::Module, code::String, filename::String)\n",
      "    @ Base ./loading.jl:1094\n",
      "  [4] #invokelatest#2\n",
      "    @ ./essentials.jl:708 [inlined]\n",
      "  [5] invokelatest\n",
      "    @ ./essentials.jl:706 [inlined]\n",
      "  [6] (::VSCodeServer.var\"#146#147\"{VSCodeServer.NotebookRunCellArguments, String})()\n",
      "    @ VSCodeServer ~/.vscode-server/extensions/julialang.language-julia-1.5.6/scripts/packages/VSCodeServer/src/serve_notebook.jl:18\n",
      "  [7] withpath(f::VSCodeServer.var\"#146#147\"{VSCodeServer.NotebookRunCellArguments, String}, path::String)\n",
      "    @ VSCodeServer ~/.vscode-server/extensions/julialang.language-julia-1.5.6/scripts/packages/VSCodeServer/src/repl.jl:185\n",
      "  [8] notebook_runcell_request(conn::VSCodeServer.JSONRPC.JSONRPCEndpoint{Base.PipeEndpoint, Base.PipeEndpoint}, params::VSCodeServer.NotebookRunCellArguments)\n",
      "    @ VSCodeServer ~/.vscode-server/extensions/julialang.language-julia-1.5.6/scripts/packages/VSCodeServer/src/serve_notebook.jl:14\n",
      "  [9] dispatch_msg(x::VSCodeServer.JSONRPC.JSONRPCEndpoint{Base.PipeEndpoint, Base.PipeEndpoint}, dispatcher::VSCodeServer.JSONRPC.MsgDispatcher, msg::Dict{String, Any})\n",
      "    @ VSCodeServer.JSONRPC ~/.vscode-server/extensions/julialang.language-julia-1.5.6/scripts/packages/JSONRPC/src/typed.jl:67\n",
      " [10] serve_notebook(pipename::String; crashreporting_pipename::String)\n",
      "    @ VSCodeServer ~/.vscode-server/extensions/julialang.language-julia-1.5.6/scripts/packages/VSCodeServer/src/serve_notebook.jl:94\n",
      " [11] top-level scope\n",
      "    @ ~/.vscode-server/extensions/julialang.language-julia-1.5.6/scripts/notebook/notebook.jl:12\n",
      " [12] include(mod::Module, _path::String)\n",
      "    @ Base ./Base.jl:386\n",
      " [13] exec_options(opts::Base.JLOptions)\n",
      "    @ Base ./client.jl:285\n",
      " [14] _start()\n",
      "    @ Base ./client.jl:485"
     ]
    }
   ],
   "source": [
    "# Affichage des rythmes cardiques maximum en fonction de la classe\n",
    "\n",
    "df = select(data, :MaxHR, :HeartDisease)\n",
    "\n",
    "df.HeartDisease = string.(df.HeartDisease)\n",
    "\n",
    "plot(df, x=:HeartDisease, y=:MaxHR, Geom.boxplot)"
   ]
  },
  {
   "cell_type": "markdown",
   "metadata": {},
   "source": [
    "## 3. Ajustement d'un modèle de régression logistique\n",
    "\n",
    "Ici, je n'utilise que la rythme cardiaque maximum comme variable explicative."
   ]
  },
  {
   "cell_type": "code",
   "execution_count": 8,
   "metadata": {},
   "outputs": [
    {
     "ename": "LoadError",
     "evalue": "LoadError: UndefVarError: @formula not defined\nin expression starting at /workspaces/AI-Cardiovascular-Diseases/jupyter-folder/project/Projet A2021.ipynb:1",
     "output_type": "error",
     "traceback": [
      "LoadError: UndefVarError: @formula not defined\n",
      "in expression starting at /workspaces/AI-Cardiovascular-Diseases/jupyter-folder/project/Projet A2021.ipynb:1\n",
      "\n",
      "Stacktrace:\n",
      "  [1] top-level scope\n",
      "    @ :0\n",
      "  [2] eval\n",
      "    @ ./boot.jl:360 [inlined]\n",
      "  [3] include_string(mapexpr::typeof(REPL.softscope), mod::Module, code::String, filename::String)\n",
      "    @ Base ./loading.jl:1094\n",
      "  [4] #invokelatest#2\n",
      "    @ ./essentials.jl:708 [inlined]\n",
      "  [5] invokelatest\n",
      "    @ ./essentials.jl:706 [inlined]\n",
      "  [6] (::VSCodeServer.var\"#146#147\"{VSCodeServer.NotebookRunCellArguments, String})()\n",
      "    @ VSCodeServer ~/.vscode-server/extensions/julialang.language-julia-1.5.6/scripts/packages/VSCodeServer/src/serve_notebook.jl:18\n",
      "  [7] withpath(f::VSCodeServer.var\"#146#147\"{VSCodeServer.NotebookRunCellArguments, String}, path::String)\n",
      "    @ VSCodeServer ~/.vscode-server/extensions/julialang.language-julia-1.5.6/scripts/packages/VSCodeServer/src/repl.jl:185\n",
      "  [8] notebook_runcell_request(conn::VSCodeServer.JSONRPC.JSONRPCEndpoint{Base.PipeEndpoint, Base.PipeEndpoint}, params::VSCodeServer.NotebookRunCellArguments)\n",
      "    @ VSCodeServer ~/.vscode-server/extensions/julialang.language-julia-1.5.6/scripts/packages/VSCodeServer/src/serve_notebook.jl:14\n",
      "  [9] dispatch_msg(x::VSCodeServer.JSONRPC.JSONRPCEndpoint{Base.PipeEndpoint, Base.PipeEndpoint}, dispatcher::VSCodeServer.JSONRPC.MsgDispatcher, msg::Dict{String, Any})\n",
      "    @ VSCodeServer.JSONRPC ~/.vscode-server/extensions/julialang.language-julia-1.5.6/scripts/packages/JSONRPC/src/typed.jl:67\n",
      " [10] serve_notebook(pipename::String; crashreporting_pipename::String)\n",
      "    @ VSCodeServer ~/.vscode-server/extensions/julialang.language-julia-1.5.6/scripts/packages/VSCodeServer/src/serve_notebook.jl:94\n",
      " [11] top-level scope\n",
      "    @ ~/.vscode-server/extensions/julialang.language-julia-1.5.6/scripts/notebook/notebook.jl:12\n",
      " [12] include(mod::Module, _path::String)\n",
      "    @ Base ./Base.jl:386\n",
      " [13] exec_options(opts::Base.JLOptions)\n",
      "    @ Base ./client.jl:285\n",
      " [14] _start()\n",
      "    @ Base ./client.jl:485"
     ]
    }
   ],
   "source": [
    "M = glm(@formula(HeartDisease ~ MaxHR), data, Bernoulli(), LogitLink())"
   ]
  },
  {
   "cell_type": "markdown",
   "metadata": {},
   "source": [
    "## 4. Prédiction des surverses pour les jours de l'ensemble de test\n",
    "\n",
    "On utilise le modèle simple de la section précédente pour estimer la probabilité que le patient souffre d'une maladie cardiovasculaire.\n",
    "\n",
    "#### 4.1 Chargement des données de l'ensemble de test"
   ]
  },
  {
   "cell_type": "code",
   "execution_count": 9,
   "metadata": {},
   "outputs": [
    {
     "ename": "UndefVarError",
     "evalue": "UndefVarError: CSV not defined",
     "output_type": "error",
     "traceback": [
      "UndefVarError: CSV not defined\n",
      "\n",
      "Stacktrace:\n",
      "  [1] top-level scope\n",
      "    @ /workspaces/AI-Cardiovascular-Diseases/jupyter-folder/project/Projet A2021.ipynb:1\n",
      "  [2] eval\n",
      "    @ ./boot.jl:360 [inlined]\n",
      "  [3] include_string(mapexpr::typeof(REPL.softscope), mod::Module, code::String, filename::String)\n",
      "    @ Base ./loading.jl:1094\n",
      "  [4] #invokelatest#2\n",
      "    @ ./essentials.jl:708 [inlined]\n",
      "  [5] invokelatest\n",
      "    @ ./essentials.jl:706 [inlined]\n",
      "  [6] (::VSCodeServer.var\"#146#147\"{VSCodeServer.NotebookRunCellArguments, String})()\n",
      "    @ VSCodeServer ~/.vscode-server/extensions/julialang.language-julia-1.5.6/scripts/packages/VSCodeServer/src/serve_notebook.jl:18\n",
      "  [7] withpath(f::VSCodeServer.var\"#146#147\"{VSCodeServer.NotebookRunCellArguments, String}, path::String)\n",
      "    @ VSCodeServer ~/.vscode-server/extensions/julialang.language-julia-1.5.6/scripts/packages/VSCodeServer/src/repl.jl:185\n",
      "  [8] notebook_runcell_request(conn::VSCodeServer.JSONRPC.JSONRPCEndpoint{Base.PipeEndpoint, Base.PipeEndpoint}, params::VSCodeServer.NotebookRunCellArguments)\n",
      "    @ VSCodeServer ~/.vscode-server/extensions/julialang.language-julia-1.5.6/scripts/packages/VSCodeServer/src/serve_notebook.jl:14\n",
      "  [9] dispatch_msg(x::VSCodeServer.JSONRPC.JSONRPCEndpoint{Base.PipeEndpoint, Base.PipeEndpoint}, dispatcher::VSCodeServer.JSONRPC.MsgDispatcher, msg::Dict{String, Any})\n",
      "    @ VSCodeServer.JSONRPC ~/.vscode-server/extensions/julialang.language-julia-1.5.6/scripts/packages/JSONRPC/src/typed.jl:67\n",
      " [10] serve_notebook(pipename::String; crashreporting_pipename::String)\n",
      "    @ VSCodeServer ~/.vscode-server/extensions/julialang.language-julia-1.5.6/scripts/packages/VSCodeServer/src/serve_notebook.jl:94\n",
      " [11] top-level scope\n",
      "    @ ~/.vscode-server/extensions/julialang.language-julia-1.5.6/scripts/notebook/notebook.jl:12\n",
      " [12] include(mod::Module, _path::String)\n",
      "    @ Base ./Base.jl:386\n",
      " [13] exec_options(opts::Base.JLOptions)\n",
      "    @ Base ./client.jl:285\n",
      " [14] _start()\n",
      "    @ Base ./client.jl:485"
     ]
    }
   ],
   "source": [
    "test = CSV.read(\"test.csv\", DataFrame);"
   ]
  },
  {
   "cell_type": "markdown",
   "metadata": {},
   "source": [
    "#### 4.2 Prédiction pour chacun des patients de l'ensemble de test\n",
    "\n",
    "On prédit que le patient souffre d'une maladie cardiovasculaire si la probabilité est supérieure à 50%."
   ]
  },
  {
   "cell_type": "code",
   "execution_count": 10,
   "metadata": {},
   "outputs": [
    {
     "ename": "UndefVarError",
     "evalue": "UndefVarError: predict not defined",
     "output_type": "error",
     "traceback": [
      "UndefVarError: predict not defined\n",
      "\n",
      "Stacktrace:\n",
      "  [1] top-level scope\n",
      "    @ /workspaces/AI-Cardiovascular-Diseases/jupyter-folder/project/Projet A2021.ipynb:1\n",
      "  [2] eval\n",
      "    @ ./boot.jl:360 [inlined]\n",
      "  [3] include_string(mapexpr::typeof(REPL.softscope), mod::Module, code::String, filename::String)\n",
      "    @ Base ./loading.jl:1094\n",
      "  [4] #invokelatest#2\n",
      "    @ ./essentials.jl:708 [inlined]\n",
      "  [5] invokelatest\n",
      "    @ ./essentials.jl:706 [inlined]\n",
      "  [6] (::VSCodeServer.var\"#146#147\"{VSCodeServer.NotebookRunCellArguments, String})()\n",
      "    @ VSCodeServer ~/.vscode-server/extensions/julialang.language-julia-1.5.6/scripts/packages/VSCodeServer/src/serve_notebook.jl:18\n",
      "  [7] withpath(f::VSCodeServer.var\"#146#147\"{VSCodeServer.NotebookRunCellArguments, String}, path::String)\n",
      "    @ VSCodeServer ~/.vscode-server/extensions/julialang.language-julia-1.5.6/scripts/packages/VSCodeServer/src/repl.jl:185\n",
      "  [8] notebook_runcell_request(conn::VSCodeServer.JSONRPC.JSONRPCEndpoint{Base.PipeEndpoint, Base.PipeEndpoint}, params::VSCodeServer.NotebookRunCellArguments)\n",
      "    @ VSCodeServer ~/.vscode-server/extensions/julialang.language-julia-1.5.6/scripts/packages/VSCodeServer/src/serve_notebook.jl:14\n",
      "  [9] dispatch_msg(x::VSCodeServer.JSONRPC.JSONRPCEndpoint{Base.PipeEndpoint, Base.PipeEndpoint}, dispatcher::VSCodeServer.JSONRPC.MsgDispatcher, msg::Dict{String, Any})\n",
      "    @ VSCodeServer.JSONRPC ~/.vscode-server/extensions/julialang.language-julia-1.5.6/scripts/packages/JSONRPC/src/typed.jl:67\n",
      " [10] serve_notebook(pipename::String; crashreporting_pipename::String)\n",
      "    @ VSCodeServer ~/.vscode-server/extensions/julialang.language-julia-1.5.6/scripts/packages/VSCodeServer/src/serve_notebook.jl:94\n",
      " [11] top-level scope\n",
      "    @ ~/.vscode-server/extensions/julialang.language-julia-1.5.6/scripts/notebook/notebook.jl:12\n",
      " [12] include(mod::Module, _path::String)\n",
      "    @ Base ./Base.jl:386\n",
      " [13] exec_options(opts::Base.JLOptions)\n",
      "    @ Base ./client.jl:285\n",
      " [14] _start()\n",
      "    @ Base ./client.jl:485"
     ]
    }
   ],
   "source": [
    "θ̂ = predict(M, test)\n",
    "\n",
    "ŷ = Int64[]\n",
    "\n",
    "for θ̂ᵢ in θ̂\n",
    "    if θ̂ᵢ >= .5\n",
    "        push!(ŷ, 1)\n",
    "    else\n",
    "        push!(ŷ, 0)\n",
    "    end\n",
    "end\n"
   ]
  },
  {
   "cell_type": "markdown",
   "metadata": {},
   "source": [
    "#### 3.3 Préparation du fichier des préditions pour téléverser sur Kaggle\n",
    "\n",
    "Le fichier *benchmark_predictions.csv* généré peut être téléversé sur Kaggle. Il est composé d'une colonne d'identifiants (ID) et d'une colonne des diagnostics prédits."
   ]
  },
  {
   "cell_type": "code",
   "execution_count": 11,
   "metadata": {},
   "outputs": [
    {
     "ename": "UndefVarError",
     "evalue": "UndefVarError: test not defined",
     "output_type": "error",
     "traceback": [
      "UndefVarError: test not defined\n",
      "\n",
      "Stacktrace:\n",
      "  [1] top-level scope\n",
      "    @ /workspaces/AI-Cardiovascular-Diseases/jupyter-folder/project/Projet A2021.ipynb:1\n",
      "  [2] eval\n",
      "    @ ./boot.jl:360 [inlined]\n",
      "  [3] include_string(mapexpr::typeof(REPL.softscope), mod::Module, code::String, filename::String)\n",
      "    @ Base ./loading.jl:1094\n",
      "  [4] #invokelatest#2\n",
      "    @ ./essentials.jl:708 [inlined]\n",
      "  [5] invokelatest\n",
      "    @ ./essentials.jl:706 [inlined]\n",
      "  [6] (::VSCodeServer.var\"#146#147\"{VSCodeServer.NotebookRunCellArguments, String})()\n",
      "    @ VSCodeServer ~/.vscode-server/extensions/julialang.language-julia-1.5.6/scripts/packages/VSCodeServer/src/serve_notebook.jl:18\n",
      "  [7] withpath(f::VSCodeServer.var\"#146#147\"{VSCodeServer.NotebookRunCellArguments, String}, path::String)\n",
      "    @ VSCodeServer ~/.vscode-server/extensions/julialang.language-julia-1.5.6/scripts/packages/VSCodeServer/src/repl.jl:185\n",
      "  [8] notebook_runcell_request(conn::VSCodeServer.JSONRPC.JSONRPCEndpoint{Base.PipeEndpoint, Base.PipeEndpoint}, params::VSCodeServer.NotebookRunCellArguments)\n",
      "    @ VSCodeServer ~/.vscode-server/extensions/julialang.language-julia-1.5.6/scripts/packages/VSCodeServer/src/serve_notebook.jl:14\n",
      "  [9] dispatch_msg(x::VSCodeServer.JSONRPC.JSONRPCEndpoint{Base.PipeEndpoint, Base.PipeEndpoint}, dispatcher::VSCodeServer.JSONRPC.MsgDispatcher, msg::Dict{String, Any})\n",
      "    @ VSCodeServer.JSONRPC ~/.vscode-server/extensions/julialang.language-julia-1.5.6/scripts/packages/JSONRPC/src/typed.jl:67\n",
      " [10] serve_notebook(pipename::String; crashreporting_pipename::String)\n",
      "    @ VSCodeServer ~/.vscode-server/extensions/julialang.language-julia-1.5.6/scripts/packages/VSCodeServer/src/serve_notebook.jl:94\n",
      " [11] top-level scope\n",
      "    @ ~/.vscode-server/extensions/julialang.language-julia-1.5.6/scripts/notebook/notebook.jl:12\n",
      " [12] include(mod::Module, _path::String)\n",
      "    @ Base ./Base.jl:386\n",
      " [13] exec_options(opts::Base.JLOptions)\n",
      "    @ Base ./client.jl:285\n",
      " [14] _start()\n",
      "    @ Base ./client.jl:485"
     ]
    }
   ],
   "source": [
    "prediction = DataFrame(ID = test.ID, Prediction = ŷ)\n",
    "\n",
    "CSV.write(\"benchmark_predictions.csv\", prediction)"
   ]
  },
  {
   "cell_type": "code",
   "execution_count": 12,
   "metadata": {},
   "outputs": [],
   "source": []
  }
 ],
 "metadata": {
  "@webio": {
   "lastCommId": null,
   "lastKernelId": null
  },
  "kernelspec": {
   "display_name": "Julia 1.6.1",
   "language": "julia",
   "name": "julia-1.6"
  },
  "language_info": {
   "file_extension": ".jl",
   "mimetype": "application/julia",
   "name": "julia",
   "version": "1.6.1"
  }
 },
 "nbformat": 4,
 "nbformat_minor": 4
}
